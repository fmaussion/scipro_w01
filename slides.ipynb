{
 "cells": [
  {
   "cell_type": "markdown",
   "metadata": {
    "slideshow": {
     "slide_type": "slide"
    }
   },
   "source": [
    "    \n",
    "# Scientific Programming\n",
    "\n",
    "[LV 707716](https://orawww.uibk.ac.at/public/lfuonline_lv.details?sem_id_in=20W&lvnr_id_in=707716)\n",
    "\n",
    "[Fabien Maussion](http://fabienmaussion.info)\n",
    "\n",
    "<img align=\"left\" width=\"30%\" src=\"https://www.uibk.ac.at/public-relations/grafik_design/images/logo/download/sublogos/institute-sublogos/atmospheric-and-cryospheric-sciences.png\"/>\n"
   ]
  },
  {
   "cell_type": "markdown",
   "metadata": {
    "slideshow": {
     "slide_type": "slide"
    }
   },
   "source": [
    "## How to use these slides\n",
    "\n",
    "- ``<space>`` : go to the next slide\n",
    "- ``<shift+space>``: go back\n",
    "- ``<left right up down arrows>``: navigate through the presentation structure\n",
    "- ``<esc>``: toggle overview mode"
   ]
  },
  {
   "cell_type": "markdown",
   "metadata": {
    "slideshow": {
     "slide_type": "slide"
    }
   },
   "source": [
    "<a href=\"https://creativecommons.org/licenses/by/4.0/\" target=\"_blank\">\n",
    "  <img align=\"left\" src=\"https://mirrors.creativecommons.org/presskit/buttons/88x31/svg/by.svg\"/>\n",
    "</a>\n",
    "\n",
    "<br>\n",
    "<br>\n",
    "        \n",
    "These lecture notes and exercises are licensed under a [Creative Commons Attribution 4.0 International (CC BY 4.0)  license](https://creativecommons.org/licenses/by/4.0/).\n",
    "\n",
    "Feel free to use / adapt them, but don't sell them, and share them under the same licence."
   ]
  },
  {
   "cell_type": "markdown",
   "metadata": {
    "slideshow": {
     "slide_type": "slide"
    }
   },
   "source": [
    "## About me \n",
    "\n",
    "- 2008: master of aerospace engineering in F-Toulouse\n",
    "- 2008-2014: PhD and post-doc in Climatology, TU Berlin\n",
    "- 2014-2015: post-doc at UIBK\n",
    "- Since Oct. 2015: university assistant at UIBK\n",
    "- Research:\n",
    "    - Regional climatology (Tibetan Plateau, Tropical Andes)\n",
    "    - Climate controls on glacier mass-balance\n",
    "    - Global glacier models\n",
    "    - Open source and open science"
   ]
  },
  {
   "cell_type": "markdown",
   "metadata": {
    "slideshow": {
     "slide_type": "slide"
    }
   },
   "source": [
    "# Organisational"
   ]
  },
  {
   "cell_type": "markdown",
   "metadata": {
    "slideshow": {
     "slide_type": "subslide"
    }
   },
   "source": [
    "**Lecture**:\n",
    "- Tuesdays 08:15-10:00 (might end on 09:45, depending on if we take a break)\n",
    "- Lecture notes: http://fabienmaussion.info/scientific_programming\n",
    "\n",
    "**Practicals**:\n",
    "- Weekly homework (at home ̶o̶r̶ ̶i̶n̶ ̶c̶o̶m̶p̶u̶t̶e̶r̶ ̶r̶o̶o̶m̶). Groups to be formed until next week.\n",
    "- Mondays 11:00-12:00\n",
    "- **Each Monday, one group present their solution to the rest of the class**"
   ]
  },
  {
   "cell_type": "markdown",
   "metadata": {
    "slideshow": {
     "slide_type": "subslide"
    }
   },
   "source": [
    "## Grading:\n",
    "- mid-term group project (the ``visclim`` package): 40%\n",
    "- end-term group project (the ``pelita`` game): mandatory participation\n",
    "- oral examination at the end of the semester: 60%\n",
    "\n",
    "**Positive evaluation of each element mandatory to pass the class!**"
   ]
  },
  {
   "cell_type": "markdown",
   "metadata": {
    "slideshow": {
     "slide_type": "fragment"
    }
   },
   "source": [
    "There will be bonus points for pointing me to typos / mistakes / broken links / incomprehensible or difficult passages in the lecture notes!"
   ]
  },
  {
   "cell_type": "markdown",
   "metadata": {
    "slideshow": {
     "slide_type": "slide"
    }
   },
   "source": [
    "## HOWTO #thiscourse \n",
    "\n",
    "Lecture notes: http://fabienmaussion.info/scientific_programming\n",
    "\n",
    "This course is of the #doityourself kind. Get your questions ready for the upcoming week: \n",
    "    \n",
    "**more questions $\\rightarrow$ more explanations!**\n",
    "\n",
    "During the \"lectures\" I will ask you to read some chapter(s) of the lecture notes. After some work alone time, we  recap the content together."
   ]
  },
  {
   "cell_type": "markdown",
   "metadata": {
    "slideshow": {
     "slide_type": "subslide"
    }
   },
   "source": [
    "**Contact**: via email (available on OLAT) or OLAT forum\n",
    "\n",
    "**Attendance**: your choice\n",
    "\n",
    "**Agenda**: we meet weekly - if classes are canceled I will let you know and update the OLAT online meetings\n",
    "\n",
    "**Your partitipation**: highly encouraged. Interrupt any time, ask questions!"
   ]
  },
  {
   "cell_type": "markdown",
   "metadata": {
    "slideshow": {
     "slide_type": "subslide"
    }
   },
   "source": [
    "## HOWTO #onlinelectures\n",
    "\n",
    "Asking questions is either easier or harder, depending on your character. How to ask questions in 2020?\n",
    "\n",
    "- in the BigBlueButton chat\n",
    "- by raising your hand and wait me to call you (don't forget to unmute!)\n",
    "- for a more personal / specific question during the lectures, ask for a breakout room (frequent example: my computer is haunted)"
   ]
  },
  {
   "cell_type": "markdown",
   "metadata": {
    "slideshow": {
     "slide_type": "slide"
    }
   },
   "source": [
    "## Homework\n",
    "\n",
    "I form the groups based on questionnaire until next week.\n",
    "\n",
    "Each week, one group is selected randomly to present their solution for next week.\n",
    "\n",
    "**Programming is hard: the semester begins NOW, and we will gain speed quickly** (so that we can slow down towards the end).\n",
    "\n",
    "If you have not programmed much before, **working along the lectures is the only way to keep the pace**. My task is to try to make it fun enough for you to actually want to do that. But it will cost you time, I can guarantee you that."
   ]
  },
  {
   "cell_type": "markdown",
   "metadata": {
    "slideshow": {
     "slide_type": "slide"
    }
   },
   "source": [
    "# Scientific programming?"
   ]
  },
  {
   "cell_type": "markdown",
   "metadata": {
    "slideshow": {
     "slide_type": "fragment"
    }
   },
   "source": [
    "**Scientific programming** targets to solve scientific problems with the help of computers."
   ]
  },
  {
   "cell_type": "markdown",
   "metadata": {
    "slideshow": {
     "slide_type": "fragment"
    }
   },
   "source": [
    " $\\rightarrow$ **Programming**  as a tool to do science"
   ]
  },
  {
   "cell_type": "markdown",
   "metadata": {
    "slideshow": {
     "slide_type": "slide"
    }
   },
   "source": [
    "# Why should we learn programming?"
   ]
  },
  {
   "cell_type": "markdown",
   "metadata": {
    "slideshow": {
     "slide_type": "fragment"
    }
   },
   "source": [
    "- **Data** $\\rightarrow$ **\"Big Data\"**"
   ]
  },
  {
   "cell_type": "markdown",
   "metadata": {
    "slideshow": {
     "slide_type": "fragment"
    }
   },
   "source": [
    "- **Science is rarely done with a \"piece of paper and a pen\" anymore**"
   ]
  },
  {
   "cell_type": "markdown",
   "metadata": {
    "slideshow": {
     "slide_type": "fragment"
    }
   },
   "source": [
    "- **Programs = automated = reproducible** (almost) "
   ]
  },
  {
   "cell_type": "markdown",
   "metadata": {
    "slideshow": {
     "slide_type": "fragment"
    }
   },
   "source": [
    "- Good programming skills are a **strong asset for your career** and to better understand our digital world"
   ]
  },
  {
   "cell_type": "markdown",
   "metadata": {
    "slideshow": {
     "slide_type": "subslide"
    }
   },
   "source": [
    "<center> <img src=\"https://fabienmaussion.info/scipro_ws2019/img/00_messing_python.png\" width=\"60%\"></center>\n",
    "\n",
    "Adapted from [xkcd](https://xkcd.com/519/)    "
   ]
  },
  {
   "cell_type": "markdown",
   "metadata": {
    "slideshow": {
     "slide_type": "slide"
    }
   },
   "source": [
    "# Why Python?"
   ]
  },
  {
   "cell_type": "markdown",
   "metadata": {
    "slideshow": {
     "slide_type": "fragment"
    }
   },
   "source": [
    "- general purpose programming language"
   ]
  },
  {
   "cell_type": "markdown",
   "metadata": {
    "slideshow": {
     "slide_type": "fragment"
    }
   },
   "source": [
    "- well suited to learn programming"
   ]
  },
  {
   "cell_type": "markdown",
   "metadata": {
    "slideshow": {
     "slide_type": "fragment"
    }
   },
   "source": [
    "- Free and open-source"
   ]
  },
  {
   "cell_type": "markdown",
   "metadata": {
    "slideshow": {
     "slide_type": "fragment"
    }
   },
   "source": [
    "- one of the [fastest growing languages for data science](https://insights.stackoverflow.com/trends?tags=python%2Cr%2Cmatlab%2Cjava)"
   ]
  },
  {
   "cell_type": "markdown",
   "metadata": {
    "slideshow": {
     "slide_type": "subslide"
    }
   },
   "source": [
    "**But: this lecture is not a course about the python syntax**. We are using python as a tool to learn general programming concepts, not the other way around."
   ]
  },
  {
   "cell_type": "markdown",
   "metadata": {
    "slideshow": {
     "slide_type": "slide"
    }
   },
   "source": [
    "### Your turn:\n",
    "\n",
    "# What would YOU like to learn from this course? "
   ]
  },
  {
   "cell_type": "markdown",
   "metadata": {
    "slideshow": {
     "slide_type": "slide"
    }
   },
   "source": [
    "### My objective:\n",
    "\n",
    "### Help you to master your future p̶r̶o̶g̶r̶a̶m̶m̶i̶n̶g̶ googling tasks as efficiently and correctly as possible."
   ]
  },
  {
   "cell_type": "markdown",
   "metadata": {
    "slideshow": {
     "slide_type": "slide"
    }
   },
   "source": [
    "**Awesome python demo**: \n",
    "- [Pangeo.io](http://pangeo.io/)\n",
    "- [a Panel application](https://edu.oggm.org/en/latest/explorer.html)\n",
    "- [Copernicus CDS](https://cds.climate.copernicus.eu)"
   ]
  },
  {
   "cell_type": "markdown",
   "metadata": {
    "slideshow": {
     "slide_type": "slide"
    }
   },
   "source": [
    "# Tentative program\n",
    "\n",
    "- Introduction to Linux\n",
    "- General programming concepts, differences between compiled and interpreted languages\n",
    "- Revisiting and formalizing basic programming structures and learn more advanced ones\n",
    "- Semantics: precise vocabulary in order to ask questions “the right way”\n",
    "- Numerics: floating point numbers, N-dimensional arrays\n",
    "- Software structure: packages, modules, functions, scripts\n",
    "- Object oriented programming: fundamentals, usage, and basic design patterns\n",
    "- Code testing with pytest\n",
    "- Short overview of major scientific python packages\n",
    "- Real world applications!"
   ]
  },
  {
   "cell_type": "markdown",
   "metadata": {
    "slideshow": {
     "slide_type": "slide"
    }
   },
   "source": [
    "## Program for today\n",
    "\n",
    "- questions?\n",
    "- questionnaires\n",
    "\n",
    "## Program for tomorrow\n",
    "\n",
    "- a very short introduction to Linux\n",
    "- installing Python"
   ]
  }
 ],
 "metadata": {
  "celltoolbar": "Slideshow",
  "hide_input": false,
  "kernelspec": {
   "display_name": "Python 3",
   "language": "python",
   "name": "python3"
  },
  "language_info": {
   "codemirror_mode": {
    "name": "ipython",
    "version": 3
   },
   "file_extension": ".py",
   "mimetype": "text/x-python",
   "name": "python",
   "nbconvert_exporter": "python",
   "pygments_lexer": "ipython3",
   "version": "3.8.5"
  },
  "latex_envs": {
   "LaTeX_envs_menu_present": true,
   "autoclose": false,
   "autocomplete": true,
   "bibliofile": "biblio.bib",
   "cite_by": "apalike",
   "current_citInitial": 1,
   "eqLabelWithNumbers": true,
   "eqNumInitial": 1,
   "hotkeys": {
    "equation": "Ctrl-E",
    "itemize": "Ctrl-I"
   },
   "labels_anchors": false,
   "latex_user_defs": false,
   "report_style_numbering": false,
   "user_envs_cfg": false
  },
  "nbTranslate": {
   "displayLangs": [
    "*"
   ],
   "hotkey": "alt-t",
   "langInMainMenu": true,
   "sourceLang": "en",
   "targetLang": "fr",
   "useGoogleTranslate": true
  },
  "rise": {
   "theme": "white",
   "transition": "none"
  },
  "toc": {
   "base_numbering": 1,
   "nav_menu": {},
   "number_sections": false,
   "sideBar": true,
   "skip_h1_title": true,
   "title_cell": "Table of Contents",
   "title_sidebar": "Contents",
   "toc_cell": false,
   "toc_position": {},
   "toc_section_display": true,
   "toc_window_display": false
  }
 },
 "nbformat": 4,
 "nbformat_minor": 2
}
